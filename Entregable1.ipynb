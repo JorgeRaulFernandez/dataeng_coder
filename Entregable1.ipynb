{
 "cells": [
  {
   "cell_type": "markdown",
   "id": "37aeaede-a35f-41f8-9c60-8138c20260df",
   "metadata": {},
   "source": [
    "# Entregable 1\n",
    "\n",
    "Para este entregable, use una api publica de [Datos Argentina](https://datos.gob.ar/) que traiga los datos de la Tasa de Política Monetaria desde el primero de enero de 2021."
   ]
  },
  {
   "cell_type": "markdown",
   "id": "ca122b29-b49d-45c9-87b2-51cdc493f435",
   "metadata": {},
   "source": [
    "Hago las importaciones requeridas"
   ]
  },
  {
   "cell_type": "code",
   "execution_count": 1,
   "id": "196950ac-afcc-4fbe-a2ac-ef39734a04c7",
   "metadata": {
    "tags": []
   },
   "outputs": [],
   "source": [
    "import requests\n",
    "import urllib.parse"
   ]
  },
  {
   "cell_type": "markdown",
   "id": "28b3356f-963b-4fb9-8789-c419a18be42b",
   "metadata": {
    "tags": []
   },
   "source": [
    "Defino la función que me va a armar la URL"
   ]
  },
  {
   "cell_type": "code",
   "execution_count": 2,
   "id": "32ae2a59-36bb-4fb3-8626-700afc62ed87",
   "metadata": {
    "tags": []
   },
   "outputs": [],
   "source": [
    "def get_api_call(ids,**kwargs):\n",
    "    API_BASE_URL = \"https://apis.datos.gob.ar/series/api/\"\n",
    "    kwargs[\"ids\"]=\",\".join(ids)\n",
    "    return \"{}{}?{}\".format(API_BASE_URL,\"series\",urllib.parse.urlencode(kwargs))"
   ]
  },
  {
   "cell_type": "markdown",
   "id": "aaeb5d35-45c7-4b6e-a4de-3229a2489965",
   "metadata": {},
   "source": [
    "Obtengo la URL"
   ]
  },
  {
   "cell_type": "code",
   "execution_count": 3,
   "id": "82dca540-c34d-459e-942c-39630217f646",
   "metadata": {
    "tags": []
   },
   "outputs": [
    {
     "name": "stdout",
     "output_type": "stream",
     "text": [
      "https://apis.datos.gob.ar/series/api/series?start_date=2019-01-01&ids=458.1_PATIO_COMIDAS_ABRI_M_13_59\n"
     ]
    }
   ],
   "source": [
    "api_call = get_api_call([\"458.1_PATIO_COMIDAS_ABRI_M_13_59\"],start_date=\"2019-01-01\")\n",
    "print(api_call)"
   ]
  },
  {
   "cell_type": "markdown",
   "id": "e0469b64-c8d5-4101-9202-7b2e73590679",
   "metadata": {},
   "source": [
    "Extraigo el json"
   ]
  },
  {
   "cell_type": "code",
   "execution_count": 4,
   "id": "e2bee884-0616-498e-abca-15c9ece3b6aa",
   "metadata": {
    "tags": []
   },
   "outputs": [
    {
     "name": "stdout",
     "output_type": "stream",
     "text": [
      "{'data': [['2019-01-01', 1698016633.0], ['2019-02-01', 1522825858.0], ['2019-03-01', 1691796925.0], ['2019-04-01', 1621048103.9999998], ['2019-05-01', 1695702429.0], ['2019-06-01', 2123808021.0], ['2019-07-01', 2597287631.9999995], ['2019-08-01', 2084611571.0], ['2019-09-01', 1922844552.0], ['2019-10-01', 2156089695.0000005], ['2019-11-01', 2113445608.0], ['2019-12-01', 2695757975.0], ['2020-01-01', 2517475806.0000005], ['2020-02-01', 2582165442.0], ['2020-03-01', 1139797040.0], ['2020-04-01', 73371637.00000001], ['2020-05-01', 207465311.0], ['2020-06-01', 350476964.0], ['2020-07-01', 495231924.0], ['2020-08-01', 557869407.0], ['2020-09-01', 504654749.00000006], ['2020-10-01', 712014068.9999999], ['2020-11-01', 1116205106.0000002], ['2020-12-01', 1915016864.0], ['2021-01-01', 2042929616.0], ['2021-02-01', 2056192092.0], ['2021-03-01', 2308494267.0], ['2021-04-01', 1703331046.0], ['2021-05-01', 1157837784.0], ['2021-06-01', 1657915412.0], ['2021-07-01', 3537280618.0], ['2021-08-01', 3196059705.0], ['2021-09-01', 3081385971.0], ['2021-10-01', 3918060205.0], ['2021-11-01', 3821809625.000001], ['2021-12-01', 5363836360.0], ['2022-01-01', 4775193300.000001], ['2022-02-01', 5176071303.0], ['2022-03-01', 5381127482.0], ['2022-04-01', 5988443824.0], ['2022-05-01', 6415335987.000001], ['2022-06-01', 7725775938.999999], ['2022-07-01', 11391535196.999998], ['2022-08-01', 8354584674.999999], ['2022-09-01', 7847237857.999999], ['2022-10-01', 9743574252.0], ['2022-11-01', 9045367667.000002], ['2022-12-01', 12695423515.0], ['2023-01-01', 13364956070.0], ['2023-02-01', 13429559102.0], ['2023-03-01', 13988441822.0]], 'count': 51, 'meta': [{'frequency': 'month', 'start_date': '2019-01-01', 'end_date': '2023-03-01'}, {'catalog': {'title': 'Datos Programación Macroeconómica'}, 'dataset': {'title': 'Ventas en centros de compras nacional', 'description': 'Ventas totales nacionales en Centros de Compras en millones de pesos, valores corrientes y constantes (base abril 2016) y evolución por grupos de artículos (valores corrientes)', 'issued': '2019-12-12', 'source': 'Instituto Nacional de Estadística y Censos (INDEC)'}, 'distribution': {'title': 'Ventas totales nacionales en Centros de Compras. Valores mensuales', 'downloadURL': 'https://infra.datos.gob.ar/catalog/sspm/dataset/458/distribution/458.1/download/ventas-totales-nacionales-centros-compras-valores-mensuales.csv'}, 'field': {'description': 'Ventas centros de compras. Patio de comidas, alimentos y kioscos', 'id': '458.1_PATIO_COMIDAS_ABRI_M_13_59', 'units': 'Pesos', 'representation_mode': 'value', 'representation_mode_units': 'Pesos'}}], 'params': {'start_date': '2019-01-01', 'ids': '458.1_PATIO_COMIDAS_ABRI_M_13_59', 'identifiers': [{'id': '458.1_PATIO_COMIDAS_ABRI_M_13_59', 'distribution': '458.1', 'dataset': '458'}]}}\n"
     ]
    }
   ],
   "source": [
    "result = requests.get(api_call).json()\n",
    "print(result)"
   ]
  },
  {
   "cell_type": "markdown",
   "id": "1b6098c2-352a-4a62-b631-4ef34f680ebc",
   "metadata": {},
   "source": [
    "Instalo psycopg2"
   ]
  },
  {
   "cell_type": "code",
   "execution_count": 5,
   "id": "43243990-d698-420d-84a6-afd9d3e1fc4d",
   "metadata": {
    "tags": []
   },
   "outputs": [
    {
     "name": "stdout",
     "output_type": "stream",
     "text": [
      "Requirement already satisfied: psycopg2-binary in /opt/conda/lib/python3.10/site-packages (2.9.6)\n"
     ]
    }
   ],
   "source": [
    "!pip install psycopg2-binary"
   ]
  },
  {
   "cell_type": "markdown",
   "id": "079acf22-1a65-41d8-b95d-16eba80945c5",
   "metadata": {},
   "source": [
    "Realizo las importaciones necesarias"
   ]
  },
  {
   "cell_type": "code",
   "execution_count": 6,
   "id": "c4e74420-266f-4c3d-a8fd-27619e7ae075",
   "metadata": {
    "tags": []
   },
   "outputs": [],
   "source": [
    "import os\n",
    "import psycopg2\n",
    "from pyspark.sql import SparkSession\n",
    "from pyspark.sql.functions import when, lit, col"
   ]
  },
  {
   "cell_type": "markdown",
   "id": "2ed6790c-8ac5-4e95-8129-2d0ee928de81",
   "metadata": {},
   "source": [
    "Cargo el driver"
   ]
  },
  {
   "cell_type": "code",
   "execution_count": 7,
   "id": "814d5abc-efda-4c55-b3f6-02944864f7f8",
   "metadata": {
    "tags": []
   },
   "outputs": [],
   "source": [
    "driver_path = \"/home/coder/working_dir/driver_jdbc/postgresql-42.2.27.jre7.jar\"\n",
    "os.environ['PYSPARK_SUBMIT_ARGS'] = f'--driver-class-path {driver_path} --jars {driver_path} pyspark-shell'\n",
    "os.environ['SPARK_CLASSPATH']=driver_path"
   ]
  },
  {
   "cell_type": "markdown",
   "id": "7b893abe-c3b9-4fba-9815-f891c6b7edcf",
   "metadata": {
    "tags": []
   },
   "source": [
    "Creo la sesion en spark"
   ]
  },
  {
   "cell_type": "code",
   "execution_count": 8,
   "id": "3a198a75-0dc3-4e5a-93b1-39b3c014367d",
   "metadata": {
    "tags": []
   },
   "outputs": [],
   "source": [
    "spark = SparkSession.builder \\\n",
    "        .master(\"local\") \\\n",
    "        .appName(\"Conexion entre Pyspark y Redshift\") \\\n",
    "        .config(\"spark.jars\",driver_path) \\\n",
    "        .config(\"spark.executor.extraClassPath\", driver_path) \\\n",
    "        .getOrCreate ()"
   ]
  },
  {
   "cell_type": "markdown",
   "id": "2b1fbdb5-1a0d-40d3-9cbc-d6a6168df97f",
   "metadata": {},
   "source": [
    "Cargo en una variable llamada env las variables de entorno"
   ]
  },
  {
   "cell_type": "code",
   "execution_count": 9,
   "id": "5baa0eac-86f3-4ff9-8d85-3edc6d9bf196",
   "metadata": {
    "tags": []
   },
   "outputs": [],
   "source": [
    "env= os.environ"
   ]
  },
  {
   "cell_type": "markdown",
   "id": "65732bc9-9cc5-4e6a-8467-433f766d6f50",
   "metadata": {},
   "source": [
    "Creo una conexion usando psycopg2"
   ]
  },
  {
   "cell_type": "code",
   "execution_count": 10,
   "id": "b1f8cd04-cf40-4f5c-a3be-b6e20e5a966d",
   "metadata": {
    "tags": []
   },
   "outputs": [],
   "source": [
    "conn = psycopg2.connect(\n",
    "    host=env['AWS_REDSHIFT_HOST'],\n",
    "    port=env['AWS_REDSHIFT_PORT'],\n",
    "    dbname=env['AWS_REDSHIFT_DBNAME'],\n",
    "    user=env['AWS_REDSHIFT_USER'],\n",
    "    password=env['AWS_REDSHIFT_PASSWORD']\n",
    ")"
   ]
  },
  {
   "cell_type": "markdown",
   "id": "dbcc3380-1300-4936-bc3e-3b3ae502b440",
   "metadata": {
    "tags": []
   },
   "source": [
    "Creo un cursor para ejecutar queries en la conexion."
   ]
  },
  {
   "cell_type": "code",
   "execution_count": 11,
   "id": "d3d0f5e5-d15a-489a-b72b-5bf9aef3c68a",
   "metadata": {
    "tags": []
   },
   "outputs": [
    {
     "name": "stdout",
     "output_type": "stream",
     "text": [
      "Table created!\n"
     ]
    }
   ],
   "source": [
    "cursor = conn.cursor()\n",
    "cursor.execute(f\"\"\"\n",
    "create table if not exists {env['AWS_REDSHIFT_SCHEMA']}.ventas_centros_compras_comida (\n",
    "    date_from VARCHAR(10) distkey,\n",
    "    millones_pesos decimal(10,2),\n",
    "    frequency varchar(12)\n",
    ") sortkey(date_from);\n",
    "\"\"\")\n",
    "conn.commit()\n",
    "cursor.close()\n",
    "print(\"Table created!\")"
   ]
  },
  {
   "cell_type": "markdown",
   "id": "5d4600bd-3918-4a04-9fe0-4769811e3b8e",
   "metadata": {},
   "source": [
    "Verifico que efectivamente la tabla haya sido creada"
   ]
  },
  {
   "cell_type": "code",
   "execution_count": 12,
   "id": "5a1b0516-b22a-4a1c-9159-d367db7c780a",
   "metadata": {
    "tags": []
   },
   "outputs": [
    {
     "name": "stdout",
     "output_type": "stream",
     "text": [
      "ventas_centros_compras_comida\n"
     ]
    }
   ],
   "source": [
    "cursor = conn.cursor()\n",
    "cursor.execute(f\"\"\"\n",
    "SELECT\n",
    "    distinct tablename\n",
    "FROM\n",
    "    PG_TABLE_DEF\n",
    "WHERE\n",
    "    schemaname='{env['AWS_REDSHIFT_SCHEMA']}';\n",
    "\"\"\")\n",
    "resultado = cursor.fetchall()\n",
    "print(\", \".join(map(lambda x: x[0],resultado)))\n",
    "cursor.close()"
   ]
  },
  {
   "cell_type": "markdown",
   "id": "a4be2371-adbf-48bf-9c96-9cf303161f3b",
   "metadata": {},
   "source": [
    "Una vez verificado que se creo la tabla, paso a trabajar con los datos. Creo un dataframe con los datos del json."
   ]
  },
  {
   "cell_type": "code",
   "execution_count": 13,
   "id": "ed40bb15-a018-476d-a1e7-bf1f31cfb854",
   "metadata": {
    "tags": []
   },
   "outputs": [
    {
     "name": "stdout",
     "output_type": "stream",
     "text": [
      "root\n",
      " |-- date_from: string (nullable = true)\n",
      " |-- ventas_pesos: double (nullable = true)\n",
      "\n",
      "+----------+--------------------+\n",
      "| date_from|        ventas_pesos|\n",
      "+----------+--------------------+\n",
      "|2019-01-01|       1.698016633E9|\n",
      "|2019-02-01|       1.522825858E9|\n",
      "|2019-03-01|       1.691796925E9|\n",
      "|2019-04-01|1.6210481039999998E9|\n",
      "|2019-05-01|       1.695702429E9|\n",
      "|2019-06-01|       2.123808021E9|\n",
      "|2019-07-01|2.5972876319999995E9|\n",
      "|2019-08-01|       2.084611571E9|\n",
      "|2019-09-01|       1.922844552E9|\n",
      "|2019-10-01|2.1560896950000005E9|\n",
      "|2019-11-01|       2.113445608E9|\n",
      "|2019-12-01|       2.695757975E9|\n",
      "|2020-01-01|2.5174758060000005E9|\n",
      "|2020-02-01|       2.582165442E9|\n",
      "|2020-03-01|        1.13979704E9|\n",
      "|2020-04-01| 7.337163700000001E7|\n",
      "|2020-05-01|        2.07465311E8|\n",
      "|2020-06-01|        3.50476964E8|\n",
      "|2020-07-01|        4.95231924E8|\n",
      "|2020-08-01|        5.57869407E8|\n",
      "+----------+--------------------+\n",
      "only showing top 20 rows\n",
      "\n"
     ]
    }
   ],
   "source": [
    "df=spark.createDataFrame(result['data'],['date_from','ventas_pesos'])\n",
    "df.printSchema()\n",
    "df.show()"
   ]
  },
  {
   "cell_type": "markdown",
   "id": "4ebaea40-2137-4722-8845-3dc5c8b72eb1",
   "metadata": {
    "tags": []
   },
   "source": [
    "Agrego una nueva columna con el numero de semana ISO y año otro para el mes y año. Para ello, necesito importar date_format de pyspark.sql.functions"
   ]
  },
  {
   "cell_type": "code",
   "execution_count": 14,
   "id": "f04eaf37-904c-4ace-98ac-aa3613c335f0",
   "metadata": {
    "tags": []
   },
   "outputs": [
    {
     "name": "stdout",
     "output_type": "stream",
     "text": [
      "root\n",
      " |-- date_from: string (nullable = true)\n",
      " |-- ventas_pesos: double (nullable = true)\n",
      " |-- month_year: string (nullable = true)\n",
      " |-- iso_week_year: string (nullable = false)\n",
      "\n",
      "+----------+--------------------+----------+-------------+\n",
      "| date_from|        ventas_pesos|month_year|iso_week_year|\n",
      "+----------+--------------------+----------+-------------+\n",
      "|2019-01-01|       1.698016633E9|    Jan-19|     2019-W01|\n",
      "|2019-02-01|       1.522825858E9|    Feb-19|     2019-W05|\n",
      "|2019-03-01|       1.691796925E9|    Mar-19|     2019-W09|\n",
      "|2019-04-01|1.6210481039999998E9|    Apr-19|     2019-W14|\n",
      "|2019-05-01|       1.695702429E9|    May-19|     2019-W18|\n",
      "|2019-06-01|       2.123808021E9|    Jun-19|     2019-W22|\n",
      "|2019-07-01|2.5972876319999995E9|    Jul-19|     2019-W27|\n",
      "|2019-08-01|       2.084611571E9|    Aug-19|     2019-W31|\n",
      "|2019-09-01|       1.922844552E9|    Sep-19|     2019-W35|\n",
      "|2019-10-01|2.1560896950000005E9|    Oct-19|     2019-W40|\n",
      "|2019-11-01|       2.113445608E9|    Nov-19|     2019-W44|\n",
      "|2019-12-01|       2.695757975E9|    Dec-19|     2019-W48|\n",
      "|2020-01-01|2.5174758060000005E9|    Jan-20|     2020-W01|\n",
      "|2020-02-01|       2.582165442E9|    Feb-20|     2020-W05|\n",
      "|2020-03-01|        1.13979704E9|    Mar-20|     2020-W09|\n",
      "|2020-04-01| 7.337163700000001E7|    Apr-20|     2020-W14|\n",
      "|2020-05-01|        2.07465311E8|    May-20|     2020-W18|\n",
      "|2020-06-01|        3.50476964E8|    Jun-20|     2020-W23|\n",
      "|2020-07-01|        4.95231924E8|    Jul-20|     2020-W27|\n",
      "|2020-08-01|        5.57869407E8|    Aug-20|     2020-W31|\n",
      "+----------+--------------------+----------+-------------+\n",
      "only showing top 20 rows\n",
      "\n"
     ]
    }
   ],
   "source": [
    "from pyspark.sql.functions import date_format,expr,concat_ws,lpad,weekofyear\n",
    "df_MonthYear = df.withColumn(\"month_year\", date_format(col(\"date_from\"), \"MMM-yy\"))\n",
    "df_to_write = df_MonthYear.withColumn(\"iso_week_year\", concat_ws(\"-\",expr(\"EXTRACT(YEAROFWEEK FROM date_from)\"), lpad(weekofyear('date_from'), 3, \"W0\")))\n",
    "df_to_write.printSchema()\n",
    "df_to_write.show()"
   ]
  },
  {
   "cell_type": "markdown",
   "id": "54d96c85-4278-44ee-93c1-70a1b3736cdd",
   "metadata": {},
   "source": [
    "Para grabar los datos, planteo:"
   ]
  },
  {
   "cell_type": "code",
   "execution_count": 15,
   "id": "1aa31028-b622-47f0-afa3-cd428011b3df",
   "metadata": {
    "tags": []
   },
   "outputs": [],
   "source": [
    "df_to_write.write \\\n",
    "    .format(\"jdbc\")\\\n",
    "    .option(\"url\",f\"jdbc:postgresql://{env['AWS_REDSHIFT_HOST']}:{env['AWS_REDSHIFT_PORT']}/{env['AWS_REDSHIFT_DBNAME']}\")\\\n",
    "    .option(\"dbtable\",f\"{env['AWS_REDSHIFT_SCHEMA']}.ventas_centros_compras_comida\") \\\n",
    "    .option(\"user\",env['AWS_REDSHIFT_USER'])\\\n",
    "    .option(\"password\",env['AWS_REDSHIFT_PASSWORD']) \\\n",
    "    .option(\"driver\",\"org.postgresql.Driver\") \\\n",
    "    .mode(\"overwrite\") \\\n",
    "    .save()"
   ]
  },
  {
   "cell_type": "markdown",
   "id": "cea8ba83-aba2-4b11-bbfb-e2f5ba5de697",
   "metadata": {},
   "source": [
    "Verifico que los datos se hayan cargado"
   ]
  },
  {
   "cell_type": "code",
   "execution_count": 16,
   "id": "ea7bb0ce-3fe3-4b7e-b04f-75b86ff6e8b9",
   "metadata": {
    "tags": []
   },
   "outputs": [
    {
     "name": "stdout",
     "output_type": "stream",
     "text": [
      "root\n",
      " |-- date_from: string (nullable = true)\n",
      " |-- ventas_pesos: double (nullable = true)\n",
      " |-- month_year: string (nullable = true)\n",
      " |-- iso_week_year: string (nullable = true)\n",
      "\n",
      "+----------+--------------------+----------+-------------+\n",
      "| date_from|        ventas_pesos|month_year|iso_week_year|\n",
      "+----------+--------------------+----------+-------------+\n",
      "|2019-01-01|       1.698016633E9|    Jan-19|     2019-W01|\n",
      "|2019-02-01|       1.522825858E9|    Feb-19|     2019-W05|\n",
      "|2019-03-01|       1.691796925E9|    Mar-19|     2019-W09|\n",
      "|2019-04-01|1.6210481039999998E9|    Apr-19|     2019-W14|\n",
      "|2019-05-01|       1.695702429E9|    May-19|     2019-W18|\n",
      "|2019-06-01|       2.123808021E9|    Jun-19|     2019-W22|\n",
      "|2019-07-01|2.5972876319999995E9|    Jul-19|     2019-W27|\n",
      "|2019-08-01|       2.084611571E9|    Aug-19|     2019-W31|\n",
      "|2019-09-01|       1.922844552E9|    Sep-19|     2019-W35|\n",
      "|2019-10-01|2.1560896950000005E9|    Oct-19|     2019-W40|\n",
      "|2019-11-01|       2.113445608E9|    Nov-19|     2019-W44|\n",
      "|2019-12-01|       2.695757975E9|    Dec-19|     2019-W48|\n",
      "|2020-01-01|2.5174758060000005E9|    Jan-20|     2020-W01|\n",
      "|2020-02-01|       2.582165442E9|    Feb-20|     2020-W05|\n",
      "|2020-03-01|        1.13979704E9|    Mar-20|     2020-W09|\n",
      "|2020-04-01| 7.337163700000001E7|    Apr-20|     2020-W14|\n",
      "|2020-05-01|        2.07465311E8|    May-20|     2020-W18|\n",
      "|2020-06-01|        3.50476964E8|    Jun-20|     2020-W23|\n",
      "|2020-07-01|        4.95231924E8|    Jul-20|     2020-W27|\n",
      "|2020-08-01|        5.57869407E8|    Aug-20|     2020-W31|\n",
      "+----------+--------------------+----------+-------------+\n",
      "only showing top 20 rows\n",
      "\n"
     ]
    }
   ],
   "source": [
    "query= f\" SELECT * FROM {env['AWS_REDSHIFT_SCHEMA']}.ventas_centros_compras_comida\"\n",
    "data = spark.read \\\n",
    "    .format(\"jdbc\") \\\n",
    "    .option(\"url\",f\"jdbc:postgresql://{env['AWS_REDSHIFT_HOST']}:{env['AWS_REDSHIFT_PORT']}/{env['AWS_REDSHIFT_DBNAME']}\")\\\n",
    "    .option(\"dbtable\",f\"({query}) as tmp_table\") \\\n",
    "    .option(\"user\",env['AWS_REDSHIFT_USER'])\\\n",
    "    .option(\"password\",env['AWS_REDSHIFT_PASSWORD']) \\\n",
    "    .option(\"driver\",\"org.postgresql.Driver\") \\\n",
    "    .load()\n",
    "data.printSchema()\n",
    "data.show()"
   ]
  }
 ],
 "metadata": {
  "kernelspec": {
   "display_name": "Python 3 (ipykernel)",
   "language": "python",
   "name": "python3"
  },
  "language_info": {
   "codemirror_mode": {
    "name": "ipython",
    "version": 3
   },
   "file_extension": ".py",
   "mimetype": "text/x-python",
   "name": "python",
   "nbconvert_exporter": "python",
   "pygments_lexer": "ipython3",
   "version": "3.10.10"
  }
 },
 "nbformat": 4,
 "nbformat_minor": 5
}
